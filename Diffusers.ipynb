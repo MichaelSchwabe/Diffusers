{
 "cells": [
  {
   "cell_type": "markdown",
   "id": "7c4abfac-dc85-4cc7-a998-32472afcbf75",
   "metadata": {},
   "source": [
    "SImple HowTo from the Github Repo\n",
    "* https://github.com/huggingface/diffusers\n",
    "\n",
    "It is fantastic and so simple"
   ]
  },
  {
   "cell_type": "markdown",
   "id": "0a18b589-c4a7-4a3c-9e78-e23e0f2ee503",
   "metadata": {},
   "source": [
    "# Text Conditional"
   ]
  },
  {
   "cell_type": "code",
   "execution_count": 1,
   "id": "5e07fcd9-b0f7-4113-b3da-be5fb10b6ae3",
   "metadata": {},
   "outputs": [
    {
     "name": "stderr",
     "output_type": "stream",
     "text": [
      "C:\\Users\\micha\\anaconda3\\envs\\diffuser\\lib\\site-packages\\tqdm\\auto.py:22: TqdmWarning: IProgress not found. Please update jupyter and ipywidgets. See https://ipywidgets.readthedocs.io/en/stable/user_install.html\n",
      "  from .autonotebook import tqdm as notebook_tqdm\n"
     ]
    }
   ],
   "source": [
    "from diffusers import DiffusionPipeline\n",
    "\n"
   ]
  },
  {
   "cell_type": "code",
   "execution_count": 2,
   "id": "2dc4e7aa-108a-467d-9f29-dae58f1a2061",
   "metadata": {},
   "outputs": [],
   "source": [
    "model_id = \"CompVis/ldm-text2im-large-256\"\n",
    "\n"
   ]
  },
  {
   "cell_type": "code",
   "execution_count": 3,
   "id": "d094f86e-fd92-45ff-a160-6eea7353e245",
   "metadata": {},
   "outputs": [
    {
     "name": "stderr",
     "output_type": "stream",
     "text": [
      "Some weights of AutoencoderKL were not initialized from the model checkpoint at C:\\Users\\micha/.cache\\huggingface\\diffusers\\models--CompVis--ldm-text2im-large-256\\snapshots\\a1f6625cc7e0f69a350ad16a157263409979f533\\vqvae and are newly initialized: ['encoder.down.0.downsample.Conv2d_0.bias', 'encoder.down.1.downsample.Conv2d_0.weight', 'encoder.down.0.downsample.Conv2d_0.weight', 'encoder.down.2.downsample.Conv2d_0.weight', 'encoder.down.2.downsample.Conv2d_0.bias', 'encoder.down.1.downsample.Conv2d_0.bias']\n",
      "You should probably TRAIN this model on a down-stream task to be able to use it for predictions and inference.\n",
      "100%|██████████████████████████████████████████████████████████████████████████████████████████████████████████████████████████████| 50/50 [02:33<00:00,  3.07s/it]\n"
     ]
    }
   ],
   "source": [
    "# load model and scheduler\n",
    "ldm = DiffusionPipeline.from_pretrained(model_id)\n",
    "\n",
    "# run pipeline in inference (sample random noise and denoise)\n",
    "prompt = \"A painting of a squirrel eating a burger\"\n",
    "images = ldm([prompt], num_inference_steps=50, eta=0.3, guidance_scale=6)[\"sample\"]\n",
    "\n",
    "# save images\n",
    "for idx, image in enumerate(images):\n",
    "    image.save(f\"pics/squirrel-0.png\")"
   ]
  },
  {
   "cell_type": "markdown",
   "id": "018f181d-a443-4b91-ac1a-777582aaebca",
   "metadata": {},
   "source": [
    "# Conditional Iteration"
   ]
  },
  {
   "cell_type": "code",
   "execution_count": 4,
   "id": "6f0c1e80-e10a-42ee-877f-ef699a9306d2",
   "metadata": {},
   "outputs": [
    {
     "name": "stderr",
     "output_type": "stream",
     "text": [
      "Some weights of AutoencoderKL were not initialized from the model checkpoint at C:\\Users\\micha/.cache\\huggingface\\diffusers\\models--CompVis--ldm-text2im-large-256\\snapshots\\a1f6625cc7e0f69a350ad16a157263409979f533\\vqvae and are newly initialized: ['encoder.down.0.downsample.Conv2d_0.bias', 'encoder.down.1.downsample.Conv2d_0.weight', 'encoder.down.0.downsample.Conv2d_0.weight', 'encoder.down.2.downsample.Conv2d_0.weight', 'encoder.down.2.downsample.Conv2d_0.bias', 'encoder.down.1.downsample.Conv2d_0.bias']\n",
      "You should probably TRAIN this model on a down-stream task to be able to use it for predictions and inference.\n",
      "100%|██████████████████████████████████████████████████████████████████████████████████████████████████████████████████████████████| 50/50 [02:28<00:00,  2.96s/it]\n",
      "100%|██████████████████████████████████████████████████████████████████████████████████████████████████████████████████████████████| 50/50 [02:32<00:00,  3.04s/it]\n",
      "100%|██████████████████████████████████████████████████████████████████████████████████████████████████████████████████████████████| 50/50 [02:31<00:00,  3.04s/it]\n",
      "100%|██████████████████████████████████████████████████████████████████████████████████████████████████████████████████████████████| 50/50 [02:34<00:00,  3.09s/it]\n",
      "100%|██████████████████████████████████████████████████████████████████████████████████████████████████████████████████████████████| 50/50 [02:34<00:00,  3.10s/it]\n",
      "100%|██████████████████████████████████████████████████████████████████████████████████████████████████████████████████████████████| 50/50 [02:33<00:00,  3.08s/it]\n"
     ]
    }
   ],
   "source": [
    "# load model and scheduler\n",
    "ldm = DiffusionPipeline.from_pretrained(model_id)\n",
    "\n",
    "# run pipeline in inference (sample random noise and denoise)\n",
    "prompt = []\n",
    "prompt.append(\"A painting of a squirrel eating a burger\")\n",
    "prompt.append(\"Perry Rohdan kissing Thora da Zoltral in the orbit\")\n",
    "prompt.append(\"Darth Vader hold an apple and a glass vine\")\n",
    "prompt.append(\"A painting of a leopard eating a lion\")\n",
    "prompt.append(\"A painting of a squirrel eating a burger\")\n",
    "prompt.append(\"The Witcher as a disney princess in an pixelart style\")\n",
    "prompt.append(\"pixelart style painting from the Witcher as a disney princess\")\n",
    "\n",
    "for idx, text in enumerate(prompt):\n",
    "    images = ldm([text], num_inference_steps=50, eta=0.3, guidance_scale=6)[\"sample\"]\n",
    "    # save images\n",
    "    for idx2,image in enumerate(images):\n",
    "        image.save(f\"pics/conditonal-text-{idx}.png\")"
   ]
  },
  {
   "cell_type": "markdown",
   "id": "3f7ea57b-16cf-4690-8fde-3fb16e5e1827",
   "metadata": {},
   "source": [
    "# Unconditional"
   ]
  },
  {
   "cell_type": "code",
   "execution_count": null,
   "id": "1f8e9c7d-01c1-4aeb-bd8b-2d33b90cefec",
   "metadata": {},
   "outputs": [],
   "source": [
    "# !pip install diffusers\n",
    "from diffusers import DDPMPipeline, DDIMPipeline, PNDMPipeline\n",
    "\n",
    "model_id = \"google/ddpm-celebahq-256\"\n",
    "\n",
    "# load model and scheduler\n",
    "ddpm = DDPMPipeline.from_pretrained(model_id)  # you can replace DDPMPipeline with DDIMPipeline or PNDMPipeline for faster inference\n",
    "\n",
    "# run pipeline in inference (sample random noise and denoise)\n",
    "image = ddpm()[\"sample\"]\n",
    "\n",
    "# save image\n",
    "image[0].save(\"pics/ddpm_generated_image.png\")"
   ]
  },
  {
   "cell_type": "code",
   "execution_count": null,
   "id": "b8d1cb40-94ab-4436-b726-596e586e2864",
   "metadata": {},
   "outputs": [],
   "source": []
  }
 ],
 "metadata": {
  "kernelspec": {
   "display_name": "Python 3",
   "language": "python",
   "name": "python3"
  },
  "language_info": {
   "codemirror_mode": {
    "name": "ipython",
    "version": 3
   },
   "file_extension": ".py",
   "mimetype": "text/x-python",
   "name": "python",
   "nbconvert_exporter": "python",
   "pygments_lexer": "ipython3",
   "version": "3.10.4"
  }
 },
 "nbformat": 4,
 "nbformat_minor": 5
}
